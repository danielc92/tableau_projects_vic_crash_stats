{
 "cells": [
  {
   "cell_type": "markdown",
   "metadata": {},
   "source": [
    "# Extract pedestrian count data from pedestrian.melbourne.vic.gov.au"
   ]
  },
  {
   "cell_type": "markdown",
   "metadata": {},
   "source": [
    "## Import modules"
   ]
  },
  {
   "cell_type": "code",
   "execution_count": 1,
   "metadata": {},
   "outputs": [],
   "source": [
    "import requests\n",
    "import pandas\n",
    "import os"
   ]
  },
  {
   "cell_type": "markdown",
   "metadata": {},
   "source": [
    "## html copied from element inspector body tag "
   ]
  },
  {
   "cell_type": "code",
   "execution_count": 18,
   "metadata": {},
   "outputs": [],
   "source": [
    "htmltext = '<noscript aria-hidden=\"true\">You need to enable JavaScript to run this visualisation app.</noscript><div id=\"root\" aria-hidden=\"true\"><div data-reactroot=\"\" class=\"App\" id=\"divToPrint\"><header class=\"header\"><div class=\"header__primary\"><a class=\"header__logo\" href=\"http://www.melbourne.vic.gov.au\" target=\"_blank\" title=\"City of Melbourne Home Page\"><img class=\"header__logo-img\" src=\"./static/media/com-mobilelogo.356d09db.svg\" alt=\"City of Melbourne Logo\"></a></div><div class=\"header__secondary\"><h1 class=\"header__title\">Pedestrian Counting System</h1></div><div class=\"header__menu\"><svg xmlns=\"http://www.w3.org/2000/svg\" width=\"24\" height=\"24\" viewBox=\"0 0 24 24\" fill=\"none\" stroke=\"currentColor\" stroke-width=\"2\" stroke-linecap=\"round\" stroke-linejoin=\"round\" class=\"hamburger\"><line x1=\"3\" y1=\"12\" x2=\"21\" y2=\"12\"></line><line x1=\"3\" y1=\"6\" x2=\"21\" y2=\"6\"></line><line x1=\"3\" y1=\"18\" x2=\"21\" y2=\"18\"></line></svg></div></header><div class=\"off-canvas-menu\"><div class=\"off-canvas-menu__overlay\"></div><div class=\"off-canvas-menu__inner\"><svg xmlns=\"http://www.w3.org/2000/svg\" width=\"24\" height=\"24\" viewBox=\"0 0 24 24\" fill=\"none\" stroke=\"currentColor\" stroke-width=\"2\" stroke-linecap=\"round\" stroke-linejoin=\"round\" class=\"off-canvas-menu__close\"><line x1=\"18\" y1=\"6\" x2=\"6\" y2=\"18\"></line><line x1=\"6\" y1=\"6\" x2=\"18\" y2=\"18\"></line></svg><ul class=\"off-canvas-menu__nav nav nav-pills nav-stacked\"><li role=\"presentation\" class=\"\"><a href=\"#\" role=\"button\">About</a></li><li role=\"presentation\" class=\"\"><a title=\"Item\" role=\"button\" href=\"#\">Frequently asked questions</a></li><li role=\"presentation\" class=\"\"><a title=\"Item\" role=\"button\" href=\"#\">Objectives</a></li><li role=\"presentation\" class=\"\"><a title=\"Item\" role=\"button\" href=\"#\">System Information</a></li><li role=\"presentation\" class=\"\"><a title=\"Item\" role=\"button\" href=\"#\">Download data</a></li></ul><div><!-- react-empty: 123 --></div><div class=\"off-canvas-menu__footer\"><div class=\"off-canvas-menu__footer__logo\"><img src=\"./static/media/com-footerlogo.99493558.svg\" alt=\"City of Melbourne Logo\"></div><p class=\"icon-indent\">Contact City of Melbourne</p><p class=\"icon-outdent\">+61 3 9658 9658</p><address class=\"icon-outdent\"><!-- react-text: 38 --> <!-- /react-text --><!-- react-text: 39 -->90-120 Swanston Street,<!-- /react-text --><br><!-- react-text: 41 -->Melbourne VIC 3000<!-- /react-text --></address><div class=\"off-canvas-menu__footer__copyright\"><a href=\"http://www.melbourne.vic.gov.au/pages/copyright.aspx\">Copyright © 2018 City of Melbourne</a><span class=\"privacy-disclaimer\"><a href=\"http://www.melbourne.vic.gov.au/about-council/governance-transparency/policies-protocols/Pages/privacy.aspx\">Privacy</a><!-- react-text: 46 --> <!-- /react-text --><!-- react-text: 47 -->|<!-- /react-text --><!-- react-text: 48 --> <!-- /react-text --><a href=\"http://www.melbourne.vic.gov.au/pages/disclaimer.aspx\">Disclaimer</a></span></div></div></div></div><div><div style=\"padding-left: 20px; color: rgb(212, 214, 219); background-color: rgb(51, 51, 51);\">Longitude: 144.9570272553542 Latitude: -37.817546100725224 Zoom: 14.545262184813303</div><div class=\"map mapboxgl-map\"><div class=\"mapboxgl-missing-css\">Missing Mapbox GL JS CSS</div><div class=\"mapboxgl-canvas-container mapboxgl-interactive mapboxgl-touch-drag-pan mapboxgl-touch-zoom-rotate\"><canvas class=\"mapboxgl-canvas\" style=\"position: absolute; width: 411px; height: 734px;\" tabindex=\"0\" aria-label=\"Map\" width=\"411\" height=\"734\"></canvas></div><div class=\"mapboxgl-control-container\"><div class=\"mapboxgl-ctrl-top-left\"></div><div class=\"mapboxgl-ctrl-top-right\"></div><div class=\"mapboxgl-ctrl-bottom-left\"><div class=\"mapboxgl-ctrl mapboxgl-ctrl-group\"><button class=\"mapboxgl-ctrl-icon mapboxgl-ctrl-zoom-in\" type=\"button\" aria-label=\"Zoom In\"></button><button class=\"mapboxgl-ctrl-icon mapboxgl-ctrl-zoom-out\" type=\"button\" aria-label=\"Zoom Out\"></button><button class=\"mapboxgl-ctrl-icon mapboxgl-ctrl-compass\" type=\"button\" aria-label=\"Reset North\"><span class=\"mapboxgl-ctrl-compass-arrow\" style=\"transform: rotate(-2.6deg);\"></span></button></div><div class=\"mapboxgl-ctrl\" style=\"display: block;\"><a class=\"mapboxgl-ctrl-logo\" target=\"_blank\" href=\"https://www.mapbox.com/\" aria-label=\"Mapbox logo\"></a></div></div><div class=\"mapboxgl-ctrl-bottom-right\"><div class=\"mapboxgl-ctrl mapboxgl-ctrl-attrib mapboxgl-compact\"><a href=\"https://www.mapbox.com/about/maps/\" target=\"_blank\">© Mapbox</a> <a href=\"http://www.openstreetmap.org/about/\" target=\"_blank\">© OpenStreetMap</a> <a class=\"mapbox-improve-map\" href=\"https://www.mapbox.com/feedback/?owner=gisfeedback&amp;id=cjb43aud684zk2sr0fzb5s4qy&amp;access_token=pk.eyJ1IjoiZ2lzZmVlZGJhY2siLCJhIjoiY2l2eDJndmtjMDFkeTJvcHM4YTNheXZtNyJ9.-HNJNch_WwLIAifPgzW2Ig\" target=\"_blank\">Improve this map</a></div></div></div></div></div><div class=\"control-panel\"><div class=\"time-date-wrapper\"><div><div class=\"time-daydate\">09 July 2018</div><div class=\"day-buttons pull-right\"><button data-key=\"previous\" type=\"button\" class=\" btn-link btn btn-default\"><svg xmlns=\"http://www.w3.org/2000/svg\" width=\"24\" height=\"24\" viewBox=\"0 0 24 24\" fill=\"none\" stroke=\"currentColor\" stroke-width=\"2\" stroke-linecap=\"round\" stroke-linejoin=\"round\" style=\"pointer-events: none;\"><polyline points=\"15 18 9 12 15 6\"></polyline></svg></button><button data-key=\"next\" type=\"button\" class=\"btn-nextprev-inactive btn-link btn btn-default\"><svg xmlns=\"http://www.w3.org/2000/svg\" width=\"24\" height=\"24\" viewBox=\"0 0 24 24\" fill=\"none\" stroke=\"currentColor\" stroke-width=\"2\" stroke-linecap=\"round\" stroke-linejoin=\"round\" style=\"pointer-events: none;\"><polyline points=\"9 18 15 12 9 6\"></polyline></svg></button><button type=\"button\" class=\"btn-link btn btn-default\"><i class=\"glyphicon glyphicon-calendar\"></i></button></div><div class=\"time-hour\">Monday 1 PM</div></div><div class=\"time-controls\"><div class=\"time-play-button\"><button type=\"button\" class=\"play-button btn-link btn btn-default\"><svg xmlns=\"http://www.w3.org/2000/svg\" width=\"24\" height=\"24\" viewBox=\"0 0 24 24\" fill=\"none\" stroke=\"currentColor\" stroke-width=\"2\" stroke-linecap=\"round\" stroke-linejoin=\"round\"><polygon points=\"5 3 19 12 5 21 5 3\"></polygon></svg></button></div><div class=\"time-slider\"><div class=\"rangeslider rangeslider-horizontal\" aria-valuemin=\"0\" aria-valuemax=\"23\" aria-valuenow=\"13\" aria-orientation=\"horizontal\"><div class=\"rangeslider__fill\" style=\"width: 45px;\"></div><div class=\"rangeslider__handle\" tabindex=\"0\" style=\"left: 45px;\"><div class=\"rangeslider__handle-label\"></div></div><ul class=\"rangeslider__labels\"></ul></div></div></div></div><div class=\"sensor-or-views\"><div class=\"sensor-or-views_buttons\"><ul class=\"nav nav-justified\"><li role=\"presentation\" class=\"\"><a href=\"/home\">Views</a></li><li role=\"presentation\" class=\"\"><a title=\"Item\" role=\"button\" href=\"#\">Sensors</a></li></ul></div><div class=\"sensor-or-views__body\"><div class=\"sensor-or-views__content\"></div></div></div></div><hr><div class=\"loadedContent\"></div><div class=\"footersmall\"><div class=\"footersmall__legend footersmall__legend--mobile\"><div class=\"footersmall__legend__item\"><svg width=\"24px\" height=\"38px\" viewBox=\"0 0 24 38\"><g stroke=\"none\" fill=\"none\"><g id=\"-\" fill=\"#FCF413\"><circle cx=\"12\" cy=\"18\" r=\"8\"></circle></g></g></svg></div><div class=\"footersmall__legend__item\"><svg width=\"24px\" height=\"38px\" viewBox=\"0 0 24 38\"><g stroke=\"none\" fill=\"none\"><g id=\"-\" fill=\"#F6F4F1\"><circle cx=\"12\" cy=\"18\" r=\"8\"></circle></g></g></svg></div><div class=\"footersmall__legend__item\"><svg width=\"24px\" height=\"38px\" viewBox=\"0 0 24 38\"><g stroke=\"none\" fill=\"none\"><g id=\"-\" fill=\"#3A8BD5\"><circle cx=\"12\" cy=\"18\" r=\"8\"></circle></g></g></svg></div><svg xmlns=\"http://www.w3.org/2000/svg\" width=\"18\" height=\"18\" viewBox=\"0 0 24 24\" class=\"footersmall__help-icon\"><path d=\"M9.09,9a3,3,0,0,1,5.83,1c0,2-3,3-3,3\" fill=\"none\" stroke=\"currentColor\" stroke-linecap=\"round\" stroke-linejoin=\"round\" stroke-width=\"2\"></path><circle cx=\"12\" cy=\"12\" r=\"10\" fill=\"none\" stroke=\"currentColor\" stroke-linecap=\"round\" stroke-linejoin=\"round\" stroke-width=\"2\"></circle><line x1=\"12\" y1=\"17\" x2=\"12\" y2=\"17\" fill=\"none\" stroke=\"currentColor\" stroke-linecap=\"round\" stroke-linejoin=\"round\" stroke-width=\"2\"></line></svg><!-- react-empty: 107 --></div><div class=\"footersmall__download\"><div class=\"dropup btn-group btn-group-sm\"><button id=\"dropdown-size-small\" role=\"button\" aria-haspopup=\"true\" aria-expanded=\"false\" type=\"button\" class=\"dropdown-toggle btn btn-sm btn-default\"><!-- react-text: 111 -->Download<!-- /react-text --><!-- react-text: 112 --> <!-- /react-text --><span class=\"caret\"></span></button><ul role=\"menu\" class=\"dropdown-menu\" aria-labelledby=\"dropdown-size-small\"><li role=\"presentation\" class=\"\"><a role=\"menuitem\" tabindex=\"-1\" href=\"#\">CSV data of selected day</a></li></ul></div></div><div class=\"footersmall__copyright\"><a href=\"http://www.melbourne.vic.gov.au/Pages/home.aspx\" target=\"_blank\">Copyright © 2018 City of Melbourne</a></div></div></div></div><script type=\"text/javascript\" src=\"./static/js/main.c066a1d0.js\"></script><div><div data-reactroot=\"\" role=\"dialog\"><div class=\"modal-backdrop in\"></div><div role=\"dialog\" tabindex=\"-1\" class=\"info-modal in modal\" style=\"display: block;\"><div class=\"modal-lg modal-dialog\"><div class=\"modal-content\" role=\"document\"><div class=\"modal-body\"><svg xmlns=\"http://www.w3.org/2000/svg\" width=\"24\" height=\"24\" viewBox=\"0 0 24 24\" fill=\"none\" stroke=\"currentColor\" stroke-width=\"2\" stroke-linecap=\"round\" stroke-linejoin=\"round\" class=\"modal__close\"><line x1=\"18\" y1=\"6\" x2=\"6\" y2=\"18\"></line><line x1=\"6\" y1=\"6\" x2=\"18\" y2=\"18\"></line></svg><div class=\"container modalElements\"><div class=\"row\"><div class=\"col-sm-8\"><div><h2>Pedestrian Counting System - Download data files</h2><p>If you would like to download the data driving the visualisation please select from one of the links below.</p><p><a class=\"download-link\" href=\"datadownload/January_2018.csv\" download=\"\">January 2018.csv - Download data file (CSV, 135KB)</a></p><p><a class=\"download-link\" href=\"datadownload/December_2017.csv\" download=\"\">December 2017.csv - Download data file (CSV, 136KB)</a></p><p><a class=\"download-link\" href=\"datadownload/November_2017.csv\" download=\"\">November 2017.csv - Download data file (CSV, 133KB)</a></p><p><a class=\"download-link\" href=\"datadownload/October_2017.csv\" download=\"\">October 2017.csv - Download data file (CSV, 135KB)</a></p><p><a class=\"download-link\" href=\"datadownload/September_2017.csv\" download=\"\">September 2017.csv - Download data file (CSV, 130KB)</a></p><p><a class=\"download-link\" href=\"datadownload/August_2017.csv\" download=\"\">August 2017.csv - Download data file (CSV, 132KB)</a></p><p><a class=\"download-link\" href=\"datadownload/July_2017.csv\" download=\"\">July 2017.csv - Download data file (CSV, 126KB)</a></p><p><a class=\"download-link\" href=\"datadownload/June_2017.csv\" download=\"\">June 2017.csv - Download data file (CSV, 122KB)</a></p><p><a class=\"download-link\" href=\"datadownload/April_2017.csv\" download=\"\">April 2017.csv - Download data file (CSV, 125KB)</a></p><p><a class=\"download-link\" href=\"datadownload/May_2017.csv\" download=\"\">May 2017.csv - Download data file (CSV, 127KB)</a></p><p><a class=\"download-link\" href=\"datadownload/March_2017.csv\" download=\"\">March 2017.csv - Download data file (CSV, 128KB)</a></p><p><a class=\"download-link\" href=\"datadownload/February_2017.csv\" download=\"\">February 2017.csv - Download data file (CSV, 114KB)</a></p><p><a class=\"download-link\" href=\"datadownload/January_2017.csv\" download=\"\">January 2017.csv - Download data file (CSV, 126KB)</a></p><p><a class=\"download-link\" href=\"datadownload/December_2016.csv\" download=\"\">December 2016.csv - Download data file (CSV, 128KB)</a></p><p><a class=\"download-link\" href=\"datadownload/November_2016.csv\" download=\"\">November 2016.csv - Download data file (CSV, 124KB)</a></p><p><a class=\"download-link\" href=\"datadownload/October_2016.csv\" download=\"\">October 2016.csv - Download data file (CSV, 128KB)</a></p><p><a class=\"download-link\" href=\"datadownload/September_2016.csv\" download=\"\">September 2016.csv - Download data file (CSV, 128KB)</a></p><p><a class=\"download-link\" href=\"datadownload/August_2016.csv\" download=\"\">August 2016.csv - Download data file (CSV, 131KB)</a></p><p><a class=\"download-link\" href=\"datadownload/July_2016.csv\" download=\"\">July 2016.csv - Download data file (CSV, 133KB)</a></p><p><a class=\"download-link\" href=\"datadownload/June_2016.csv\" download=\"\">June 2016.csv - Download data file (CSV, 128KB)</a></p><p><a class=\"download-link\" href=\"datadownload/May_2016.csv\" download=\"\">May 2016.csv - Download data file (CSV, 134KB)</a></p><p><a class=\"download-link\" href=\"datadownload/April_2016.csv\" download=\"\">April 2016.csv - Download data file (CSV, 127KB)</a></p><p><a class=\"download-link\" href=\"datadownload/March_2016.csv\" download=\"\">March 2016.csv - Download data file (CSV, 132KB)</a></p><p><a class=\"download-link\" href=\"datadownload/February_2016.csv\" download=\"\">February 2016.csv - Download data file (CSV, 123KB)</a></p><p><a class=\"download-link\" href=\"datadownload/January_2016.csv\" download=\"\">January 2016.csv - Download data file (CSV, 126KB)</a></p><p><a class=\"download-link\" href=\"datadownload/December_2015.csv\" download=\"\">December 2015.csv - Download data file (CSV, 125KB)</a></p><p><a class=\"download-link\" href=\"datadownload/November_2015.csv\" download=\"\">November 2015.csv - Download data file (CSV, 122KB)</a></p><p><a class=\"download-link\" href=\"datadownload/October_2015.csv\" download=\"\">October 2015.csv - Download data file (CSV, 128KB)</a></p><p><a class=\"download-link\" href=\"datadownload/September_2015.csv\" download=\"\">September 2015.csv - Download data file (CSV, 124KB)</a></p><p><a class=\"download-link\" href=\"datadownload/August_2015.csv\" download=\"\">August 2015.csv - Download data file (CSV, 125KB)</a></p><p><a class=\"download-link\" href=\"datadownload/July_2015.csv\" download=\"\">July 2015.csv - Download data file (CSV, 122KB)</a></p><p><a class=\"download-link\" href=\"datadownload/June_2015.csv\" download=\"\">June 2015 - Download data file (CSV, 121KB)</a></p><p><a class=\"download-link\" href=\"datadownload/May_2015.csv\" download=\"\">May 2015 - Download data file (CSV, 125KB)</a></p><p><a class=\"download-link\" href=\"datadownload/April_2015.csv\" download=\"\">April 2015 - Download data file (CSV, 114KB)</a></p><p><a class=\"download-link\" href=\"datadownload/March_2015.csv\" download=\"\">March 2015 - Download data file (CSV, 121KB)</a></p><p><a class=\"download-link\" href=\"datadownload/February_2015.csv\" download=\"\">February 2015 - Download data file (CSV, 101KB)</a></p><p><a class=\"download-link\" href=\"datadownload/January_2015.csv\" download=\"\">January 2015 - Download data file (CSV, 97KB)</a></p><p><a class=\"download-link\" href=\"datadownload/December_2014.csv\" download=\"\">December 2014 - Download data file (CSV, 100KB)</a></p><p><a class=\"download-link\" href=\"datadownload/November_2014.csv\" download=\"\">November 2014 - Download data file (CSV, 97KB)</a></p><p><a class=\"download-link\" href=\"datadownload/October_2014.csv\" download=\"\">October 2014 - Download data file (CSV, 101KB)</a></p><p><a class=\"download-link\" href=\"datadownload/September_2014.csv\" download=\"\">September 2014 - Download data file (CSV, 96KB)</a></p><p><a class=\"download-link\" href=\"datadownload/August_2014.csv\" download=\"\">August 2014 - Download data file (CSV, 92KB)</a></p><p><a class=\"download-link\" href=\"datadownload/July_2014.csv\" download=\"\">July 2014 - Download data file (CSV, 93KB)</a></p><p><a class=\"download-link\" href=\"datadownload/June_2014.csv\" download=\"\">June 2014 - Download data file (CSV, 92KB)</a></p><p><a class=\"download-link\" href=\"datadownload/May_2014.csv\" download=\"\">May 2014 - Download data file (CSV, 98KB)</a></p><p><a class=\"download-link\" href=\"datadownload/April_2014.csv\" download=\"\">April 2014 - Download data file (CSV, 86KB)</a></p><p><a class=\"download-link\" href=\"datadownload/March_2014.csv\" download=\"\">March 2014 - Download data file (CSV, 87KB)</a></p><p><a class=\"download-link\" href=\"datadownload/February_2014.csv\" download=\"\">February 2014 - Download data file (CSV, 81KB)</a></p><p><a class=\"download-link\" href=\"datadownload/January_2014.csv\" download=\"\">January 2014 - Download data file (CSV, 88KB)</a></p><p><a class=\"download-link\" href=\"datadownload/December_2013.csv\" download=\"\">December 2013 - Download data file (CSV, 86KB)</a></p><p><a class=\"download-link\" href=\"datadownload/November_2013.csv\" download=\"\">November 2013 - Download data file (CSV, 85KB)</a></p><p><a class=\"download-link\" href=\"datadownload/October_2013.csv\" download=\"\">October 2013 - Download data file (CSV, 88KB)</a></p><p><a class=\"download-link\" href=\"datadownload/September_2013.csv\" download=\"\">September 2013 - Download data file (CSV, 81KB)</a></p><p><a class=\"download-link\" href=\"datadownload/August_2013.csv\" download=\"\">August 2013 - Download data file (CSV, 64KB)</a></p><p><a class=\"download-link\" href=\"datadownload/July_2013.csv\" download=\"\">July 2013 - Download data file (CSV, 66KB)</a></p><p><a class=\"download-link\" href=\"datadownload/June_2013.csv\" download=\"\">June 2013 - Download data file (CSV, 64KB)</a></p><p><a class=\"download-link\" href=\"datadownload/May_2013.csv\" download=\"\">May 2013 - Download data file (CSV, 68KB)</a></p><p><a class=\"download-link\" href=\"datadownload/April_2013.csv\" download=\"\">April 2013 - Download data file (CSV, 66KB)</a></p><p><a class=\"download-link\" href=\"datadownload/March_2013.csv\" download=\"\">March 2013 - Download data file (CSV, 69KB)</a></p><p><a class=\"download-link\" href=\"datadownload/February_2013.csv\" download=\"\">February 2013 - Download data file (CSV, 62KB)</a></p><p><a class=\"download-link\" href=\"datadownload/January_2013.csv\" download=\"\">January 2013 - Download data file (CSV, 67KB)</a></p><p><a class=\"download-link\" href=\"datadownload/2012.csv\" download=\"\">2012 - Download data file (CSV, 717KB)</a></p><p><a class=\"download-link\" href=\"datadownload/2011.csv\" download=\"\">2011 - Download data file (CSV, 683KB)</a></p><p><a class=\"download-link\" href=\"datadownload/2010.csv\" download=\"\">2010 - Download data file (CSV, 700KB)</a></p><p><a class=\"download-link\" href=\"datadownload/2009.csv\" download=\"\">2009 (from May) - Download data file (CSV as ZIP, 458KB)</a></p></div></div><div class=\"col-sm-4\"><ul class=\"info-modal__nav nav nav-pills nav-stacked\"><li role=\"presentation\" class=\"\"><a href=\"#\" role=\"button\">About</a></li><li role=\"presentation\" class=\"\"><a title=\"Item\" role=\"button\" href=\"#\">Frequently asked questions</a></li><li role=\"presentation\" class=\"\"><a title=\"Item\" role=\"button\" href=\"#\">Objectives</a></li><li role=\"presentation\" class=\"\"><a title=\"Item\" role=\"button\" href=\"#\">System Information</a></li><li role=\"presentation\" class=\"active\"><a title=\"Item\" role=\"button\" href=\"#\">Download data</a></li></ul></div></div></div></div><div class=\"site-footer\"><div class=\"container\"><div class=\"site-footer__logo\"><img src=\"./static/media/com-footerlogo-dark.90d4ef3f.svg\" alt=\"City of Melbourne Logo\"></div><p class=\"icon-indent\">Contact City of Melbourne</p><p class=\"icon-outdent\">+61 3 9658 9658</p><address class=\"icon-outdent\"><!-- react-text: 36 --> <!-- /react-text --><!-- react-text: 37 -->90-120 Swanston Street,<!-- /react-text --><br><!-- react-text: 39 -->Melbourne VIC 3000<!-- /react-text --></address><div class=\"site-footer__copyright\"><a href=\"http://www.melbourne.vic.gov.au/pages/copyright.aspx\">Copyright © 2018 City of Melbourne</a><span class=\"privacy-disclaimer\"><a href=\"http://www.melbourne.vic.gov.au/about-council/governance-transparency/policies-protocols/Pages/privacy.aspx\">Privacy</a><!-- react-text: 44 --> <!-- /react-text --><!-- react-text: 45 -->|<!-- /react-text --><!-- react-text: 46 --> <!-- /react-text --><a href=\"http://www.melbourne.vic.gov.au/pages/disclaimer.aspx\">Disclaimer</a></span></div></div></div></div></div></div></div></div>'"
   ]
  },
  {
   "cell_type": "code",
   "execution_count": 19,
   "metadata": {},
   "outputs": [],
   "source": [
    "from bs4 import BeautifulSoup"
   ]
  },
  {
   "cell_type": "code",
   "execution_count": 20,
   "metadata": {},
   "outputs": [],
   "source": [
    "soup = BeautifulSoup(htmltext, \"html.parser\")"
   ]
  },
  {
   "cell_type": "code",
   "execution_count": 21,
   "metadata": {},
   "outputs": [],
   "source": [
    "links = soup.find_all(\"a\")"
   ]
  },
  {
   "cell_type": "code",
   "execution_count": 22,
   "metadata": {},
   "outputs": [],
   "source": [
    "baseurl = \"http://www.pedestrian.melbourne.vic.gov.au/\""
   ]
  },
  {
   "cell_type": "markdown",
   "metadata": {},
   "source": [
    "### Download each file to desktop folder"
   ]
  },
  {
   "cell_type": "code",
   "execution_count": 25,
   "metadata": {},
   "outputs": [
    {
     "name": "stdout",
     "output_type": "stream",
     "text": [
      "datadownload/January_2018.csv\n",
      "datadownload/December_2017.csv\n",
      "datadownload/November_2017.csv\n",
      "datadownload/October_2017.csv\n",
      "datadownload/September_2017.csv\n",
      "datadownload/August_2017.csv\n",
      "datadownload/July_2017.csv\n",
      "datadownload/June_2017.csv\n",
      "datadownload/April_2017.csv\n",
      "datadownload/May_2017.csv\n",
      "datadownload/March_2017.csv\n",
      "datadownload/February_2017.csv\n",
      "datadownload/January_2017.csv\n",
      "datadownload/December_2016.csv\n",
      "datadownload/November_2016.csv\n",
      "datadownload/October_2016.csv\n",
      "datadownload/September_2016.csv\n",
      "datadownload/August_2016.csv\n",
      "datadownload/July_2016.csv\n",
      "datadownload/June_2016.csv\n",
      "datadownload/May_2016.csv\n",
      "datadownload/April_2016.csv\n",
      "datadownload/March_2016.csv\n",
      "datadownload/February_2016.csv\n",
      "datadownload/January_2016.csv\n",
      "datadownload/December_2015.csv\n",
      "datadownload/November_2015.csv\n",
      "datadownload/October_2015.csv\n",
      "datadownload/September_2015.csv\n",
      "datadownload/August_2015.csv\n",
      "datadownload/July_2015.csv\n",
      "datadownload/June_2015.csv\n",
      "datadownload/May_2015.csv\n",
      "datadownload/April_2015.csv\n",
      "datadownload/March_2015.csv\n",
      "datadownload/February_2015.csv\n",
      "datadownload/January_2015.csv\n",
      "datadownload/December_2014.csv\n",
      "datadownload/November_2014.csv\n",
      "datadownload/October_2014.csv\n",
      "datadownload/September_2014.csv\n",
      "datadownload/August_2014.csv\n",
      "datadownload/July_2014.csv\n",
      "datadownload/June_2014.csv\n",
      "datadownload/May_2014.csv\n",
      "datadownload/April_2014.csv\n",
      "datadownload/March_2014.csv\n",
      "datadownload/February_2014.csv\n",
      "datadownload/January_2014.csv\n",
      "datadownload/December_2013.csv\n",
      "datadownload/November_2013.csv\n",
      "datadownload/October_2013.csv\n",
      "datadownload/September_2013.csv\n",
      "datadownload/August_2013.csv\n",
      "datadownload/July_2013.csv\n",
      "datadownload/June_2013.csv\n",
      "datadownload/May_2013.csv\n",
      "datadownload/April_2013.csv\n",
      "datadownload/March_2013.csv\n",
      "datadownload/February_2013.csv\n",
      "datadownload/January_2013.csv\n",
      "datadownload/2012.csv\n",
      "datadownload/2011.csv\n",
      "datadownload/2010.csv\n",
      "datadownload/2009.csv\n"
     ]
    }
   ],
   "source": [
    "for index in range(len(links)):\n",
    "    link = links[index].get(\"href\")\n",
    "    #print(link)\n",
    "    if \".csv\" in link:\n",
    "        print(link)\n",
    "        req = requests.get(baseurl + link, allow_redirects = True)\n",
    "        filename = link.replace(\"datadownload/\",\"\")\n",
    "        open(\"/users/danielcorcoran/desktop/ped/\" + filename, \"wb\").write(req.content)"
   ]
  },
  {
   "cell_type": "markdown",
   "metadata": {},
   "source": [
    "### Store each dataframe in memory, in list format/"
   ]
  },
  {
   "cell_type": "code",
   "execution_count": 28,
   "metadata": {},
   "outputs": [],
   "source": [
    "listofdata = []\n",
    "\n",
    "for name in os.listdir(\"/users/danielcorcoran/desktop/ped/raw data/\"):\n",
    "    data = pandas.read_csv(\"/users/danielcorcoran/desktop/ped/raw data/\" + name)\n",
    "    listofdata.append(data)"
   ]
  },
  {
   "cell_type": "markdown",
   "metadata": {},
   "source": [
    "### Union all dataframes"
   ]
  },
  {
   "cell_type": "code",
   "execution_count": 32,
   "metadata": {},
   "outputs": [],
   "source": [
    "unioned_data = pandas.concat(listofdata, axis = 0, sort = True)"
   ]
  },
  {
   "cell_type": "markdown",
   "metadata": {},
   "source": [
    "### Preview data shape "
   ]
  },
  {
   "cell_type": "code",
   "execution_count": 33,
   "metadata": {},
   "outputs": [
    {
     "data": {
      "text/plain": [
       "(76721, 51)"
      ]
     },
     "execution_count": 33,
     "metadata": {},
     "output_type": "execute_result"
    }
   ],
   "source": [
    "unioned_data.shape"
   ]
  },
  {
   "cell_type": "markdown",
   "metadata": {},
   "source": [
    "### Preview column names"
   ]
  },
  {
   "cell_type": "code",
   "execution_count": 35,
   "metadata": {},
   "outputs": [],
   "source": [
    "column_names_sorted = sorted(unioned_data.columns)"
   ]
  },
  {
   "cell_type": "code",
   "execution_count": 36,
   "metadata": {},
   "outputs": [
    {
     "name": "stdout",
     "output_type": "stream",
     "text": [
      "Alfred Place\n",
      "Australia on Collins\n",
      "Birrarung Marr\n",
      "Bourke St-Russel St (West)\n",
      "Bourke St-Russell St (West)\n",
      "Bourke Street Mall (North)\n",
      "Bourke Street Mall (South)\n",
      "Chinatown-Lt Bourke St (South)\n",
      "Chinatown-Russel St (South)\n",
      "Chinatown-Swanston St (North)\n",
      "City Square\n",
      "Collins Place (North)\n",
      "Collins Place (South)\n",
      "Convention/Exhibition Centre\n",
      "Date\n",
      "Flagstaff Station\n",
      "Flinders St Station Underpass\n",
      "Flinders St-Elizabeth St (East)\n",
      "Flinders St-Spark Lane\n",
      "Flinders St-Spring St (West)\n",
      "Flinders St-Swanston St (West)\n",
      "Grattan St-Swanston St (West)\n",
      "Hour\n",
      "Lonsdale St (South)\n",
      "Lygon St (West)\n",
      "Lygon Street (East)\n",
      "Melbourne Central\n",
      "Melbourne Convention Exhibition Centre\n",
      "Monash Rd-Swanston St (West)\n",
      "New Quay\n",
      "Princes Bridge\n",
      "QV Market-Elizabeth (West)\n",
      "QV Market-Elizabeth St\n",
      "QV Market-Peel St\n",
      "Queen Street (West)\n",
      "Sandridge Bridge\n",
      "Southbank\n",
      "Southern Cross Station\n",
      "Spencer St-Collins St (North)\n",
      "Spencer St-Collins St (South)\n",
      "Spring St-Lonsdale St (South)\n",
      "St. Kilda-Alexandra Gardens\n",
      "State Library\n",
      "The Arts Centre\n",
      "Tin Alley-Swanston St (West)\n",
      "Town Hall (West)\n",
      "Unnamed: 0\n",
      "Vic Arts Centre\n",
      "Victoria Point\n",
      "Waterfront City\n",
      "Webb Bridge\n"
     ]
    }
   ],
   "source": [
    "for column in column_names_sorted:\n",
    "    print(column)"
   ]
  },
  {
   "cell_type": "code",
   "execution_count": 43,
   "metadata": {},
   "outputs": [],
   "source": [
    "unioned_data.to_csv(\"/users/danielcorcoran/desktop/ped/output data/full_pedestrian_data_20180907.csv\", index_label = \"ROW_INDEX\")"
   ]
  },
  {
   "cell_type": "code",
   "execution_count": 44,
   "metadata": {},
   "outputs": [],
   "source": [
    "unioned_data.drop(\"Unnamed: 0\", axis = 1, inplace = True)"
   ]
  }
 ],
 "metadata": {
  "kernelspec": {
   "display_name": "Python 3",
   "language": "python",
   "name": "python3"
  },
  "language_info": {
   "codemirror_mode": {
    "name": "ipython",
    "version": 3
   },
   "file_extension": ".py",
   "mimetype": "text/x-python",
   "name": "python",
   "nbconvert_exporter": "python",
   "pygments_lexer": "ipython3",
   "version": "3.6.5"
  },
  "toc": {
   "base_numbering": 1,
   "nav_menu": {},
   "number_sections": true,
   "sideBar": true,
   "skip_h1_title": false,
   "title_cell": "Table of Contents",
   "title_sidebar": "Contents",
   "toc_cell": false,
   "toc_position": {},
   "toc_section_display": true,
   "toc_window_display": false
  },
  "varInspector": {
   "cols": {
    "lenName": 16,
    "lenType": 16,
    "lenVar": 40
   },
   "kernels_config": {
    "python": {
     "delete_cmd_postfix": "",
     "delete_cmd_prefix": "del ",
     "library": "var_list.py",
     "varRefreshCmd": "print(var_dic_list())"
    },
    "r": {
     "delete_cmd_postfix": ") ",
     "delete_cmd_prefix": "rm(",
     "library": "var_list.r",
     "varRefreshCmd": "cat(var_dic_list()) "
    }
   },
   "types_to_exclude": [
    "module",
    "function",
    "builtin_function_or_method",
    "instance",
    "_Feature"
   ],
   "window_display": false
  }
 },
 "nbformat": 4,
 "nbformat_minor": 2
}
